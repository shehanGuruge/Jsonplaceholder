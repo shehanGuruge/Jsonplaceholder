{
  "cells": [
    {
      "cell_type": "markdown",
      "metadata": {
        "id": "view-in-github",
        "colab_type": "text"
      },
      "source": [
        "<a href=\"https://colab.research.google.com/github/shehanGuruge/Jsonplaceholder/blob/master/DecisionTreeRegressor.ipynb\" target=\"_parent\"><img src=\"https://colab.research.google.com/assets/colab-badge.svg\" alt=\"Open In Colab\"/></a>"
      ]
    },
    {
      "cell_type": "code",
      "execution_count": 78,
      "metadata": {
        "id": "TuDEc6DO7rJW"
      },
      "outputs": [],
      "source": [
        "import pandas as pd\n",
        "from sklearn.model_selection import train_test_split\n",
        "from sklearn.tree import DecisionTreeRegressor\n",
        "from sklearn.metrics import mean_squared_error, mean_absolute_error"
      ]
    },
    {
      "cell_type": "code",
      "execution_count": 79,
      "metadata": {
        "colab": {
          "base_uri": "https://localhost:8080/",
          "height": 206
        },
        "id": "Ze1HXlDD7rJX",
        "outputId": "1874d2cd-a38f-4fca-f106-74c729f4aa6c"
      },
      "outputs": [
        {
          "output_type": "execute_result",
          "data": {
            "text/plain": [
              "        Lat       Long  Day  Time   Weather  Light  Severity  Sex   Age  \\\n",
              "0  6.871939  79.901487  1.0  19.00      1.0    2.0       3.0  1.0  26.0   \n",
              "1  6.871939  79.901487  1.0  19.00      1.0    2.0       3.0  NaN   NaN   \n",
              "2  6.884665  79.907132  7.0   8.50      1.0    1.0       4.0  1.0  26.0   \n",
              "3  6.884665  79.907132  7.0   8.50      1.0    1.0       4.0  1.0  42.0   \n",
              "4  6.877136  79.892977  5.0  12.55      1.0    1.0       4.0  1.0  39.0   \n",
              "\n",
              "   Vehicle_type  Vehicle_age  \n",
              "0           5.0          2.0  \n",
              "1           1.0          2.0  \n",
              "2           1.0          6.0  \n",
              "3           1.0          2.0  \n",
              "4           2.0         13.0  "
            ],
            "text/html": [
              "\n",
              "  <div id=\"df-f3cd421a-b5c9-4286-959a-1d9255615ee6\">\n",
              "    <div class=\"colab-df-container\">\n",
              "      <div>\n",
              "<style scoped>\n",
              "    .dataframe tbody tr th:only-of-type {\n",
              "        vertical-align: middle;\n",
              "    }\n",
              "\n",
              "    .dataframe tbody tr th {\n",
              "        vertical-align: top;\n",
              "    }\n",
              "\n",
              "    .dataframe thead th {\n",
              "        text-align: right;\n",
              "    }\n",
              "</style>\n",
              "<table border=\"1\" class=\"dataframe\">\n",
              "  <thead>\n",
              "    <tr style=\"text-align: right;\">\n",
              "      <th></th>\n",
              "      <th>Lat</th>\n",
              "      <th>Long</th>\n",
              "      <th>Day</th>\n",
              "      <th>Time</th>\n",
              "      <th>Weather</th>\n",
              "      <th>Light</th>\n",
              "      <th>Severity</th>\n",
              "      <th>Sex</th>\n",
              "      <th>Age</th>\n",
              "      <th>Vehicle_type</th>\n",
              "      <th>Vehicle_age</th>\n",
              "    </tr>\n",
              "  </thead>\n",
              "  <tbody>\n",
              "    <tr>\n",
              "      <th>0</th>\n",
              "      <td>6.871939</td>\n",
              "      <td>79.901487</td>\n",
              "      <td>1.0</td>\n",
              "      <td>19.00</td>\n",
              "      <td>1.0</td>\n",
              "      <td>2.0</td>\n",
              "      <td>3.0</td>\n",
              "      <td>1.0</td>\n",
              "      <td>26.0</td>\n",
              "      <td>5.0</td>\n",
              "      <td>2.0</td>\n",
              "    </tr>\n",
              "    <tr>\n",
              "      <th>1</th>\n",
              "      <td>6.871939</td>\n",
              "      <td>79.901487</td>\n",
              "      <td>1.0</td>\n",
              "      <td>19.00</td>\n",
              "      <td>1.0</td>\n",
              "      <td>2.0</td>\n",
              "      <td>3.0</td>\n",
              "      <td>NaN</td>\n",
              "      <td>NaN</td>\n",
              "      <td>1.0</td>\n",
              "      <td>2.0</td>\n",
              "    </tr>\n",
              "    <tr>\n",
              "      <th>2</th>\n",
              "      <td>6.884665</td>\n",
              "      <td>79.907132</td>\n",
              "      <td>7.0</td>\n",
              "      <td>8.50</td>\n",
              "      <td>1.0</td>\n",
              "      <td>1.0</td>\n",
              "      <td>4.0</td>\n",
              "      <td>1.0</td>\n",
              "      <td>26.0</td>\n",
              "      <td>1.0</td>\n",
              "      <td>6.0</td>\n",
              "    </tr>\n",
              "    <tr>\n",
              "      <th>3</th>\n",
              "      <td>6.884665</td>\n",
              "      <td>79.907132</td>\n",
              "      <td>7.0</td>\n",
              "      <td>8.50</td>\n",
              "      <td>1.0</td>\n",
              "      <td>1.0</td>\n",
              "      <td>4.0</td>\n",
              "      <td>1.0</td>\n",
              "      <td>42.0</td>\n",
              "      <td>1.0</td>\n",
              "      <td>2.0</td>\n",
              "    </tr>\n",
              "    <tr>\n",
              "      <th>4</th>\n",
              "      <td>6.877136</td>\n",
              "      <td>79.892977</td>\n",
              "      <td>5.0</td>\n",
              "      <td>12.55</td>\n",
              "      <td>1.0</td>\n",
              "      <td>1.0</td>\n",
              "      <td>4.0</td>\n",
              "      <td>1.0</td>\n",
              "      <td>39.0</td>\n",
              "      <td>2.0</td>\n",
              "      <td>13.0</td>\n",
              "    </tr>\n",
              "  </tbody>\n",
              "</table>\n",
              "</div>\n",
              "      <button class=\"colab-df-convert\" onclick=\"convertToInteractive('df-f3cd421a-b5c9-4286-959a-1d9255615ee6')\"\n",
              "              title=\"Convert this dataframe to an interactive table.\"\n",
              "              style=\"display:none;\">\n",
              "        \n",
              "  <svg xmlns=\"http://www.w3.org/2000/svg\" height=\"24px\"viewBox=\"0 0 24 24\"\n",
              "       width=\"24px\">\n",
              "    <path d=\"M0 0h24v24H0V0z\" fill=\"none\"/>\n",
              "    <path d=\"M18.56 5.44l.94 2.06.94-2.06 2.06-.94-2.06-.94-.94-2.06-.94 2.06-2.06.94zm-11 1L8.5 8.5l.94-2.06 2.06-.94-2.06-.94L8.5 2.5l-.94 2.06-2.06.94zm10 10l.94 2.06.94-2.06 2.06-.94-2.06-.94-.94-2.06-.94 2.06-2.06.94z\"/><path d=\"M17.41 7.96l-1.37-1.37c-.4-.4-.92-.59-1.43-.59-.52 0-1.04.2-1.43.59L10.3 9.45l-7.72 7.72c-.78.78-.78 2.05 0 2.83L4 21.41c.39.39.9.59 1.41.59.51 0 1.02-.2 1.41-.59l7.78-7.78 2.81-2.81c.8-.78.8-2.07 0-2.86zM5.41 20L4 18.59l7.72-7.72 1.47 1.35L5.41 20z\"/>\n",
              "  </svg>\n",
              "      </button>\n",
              "      \n",
              "  <style>\n",
              "    .colab-df-container {\n",
              "      display:flex;\n",
              "      flex-wrap:wrap;\n",
              "      gap: 12px;\n",
              "    }\n",
              "\n",
              "    .colab-df-convert {\n",
              "      background-color: #E8F0FE;\n",
              "      border: none;\n",
              "      border-radius: 50%;\n",
              "      cursor: pointer;\n",
              "      display: none;\n",
              "      fill: #1967D2;\n",
              "      height: 32px;\n",
              "      padding: 0 0 0 0;\n",
              "      width: 32px;\n",
              "    }\n",
              "\n",
              "    .colab-df-convert:hover {\n",
              "      background-color: #E2EBFA;\n",
              "      box-shadow: 0px 1px 2px rgba(60, 64, 67, 0.3), 0px 1px 3px 1px rgba(60, 64, 67, 0.15);\n",
              "      fill: #174EA6;\n",
              "    }\n",
              "\n",
              "    [theme=dark] .colab-df-convert {\n",
              "      background-color: #3B4455;\n",
              "      fill: #D2E3FC;\n",
              "    }\n",
              "\n",
              "    [theme=dark] .colab-df-convert:hover {\n",
              "      background-color: #434B5C;\n",
              "      box-shadow: 0px 1px 3px 1px rgba(0, 0, 0, 0.15);\n",
              "      filter: drop-shadow(0px 1px 2px rgba(0, 0, 0, 0.3));\n",
              "      fill: #FFFFFF;\n",
              "    }\n",
              "  </style>\n",
              "\n",
              "      <script>\n",
              "        const buttonEl =\n",
              "          document.querySelector('#df-f3cd421a-b5c9-4286-959a-1d9255615ee6 button.colab-df-convert');\n",
              "        buttonEl.style.display =\n",
              "          google.colab.kernel.accessAllowed ? 'block' : 'none';\n",
              "\n",
              "        async function convertToInteractive(key) {\n",
              "          const element = document.querySelector('#df-f3cd421a-b5c9-4286-959a-1d9255615ee6');\n",
              "          const dataTable =\n",
              "            await google.colab.kernel.invokeFunction('convertToInteractive',\n",
              "                                                     [key], {});\n",
              "          if (!dataTable) return;\n",
              "\n",
              "          const docLinkHtml = 'Like what you see? Visit the ' +\n",
              "            '<a target=\"_blank\" href=https://colab.research.google.com/notebooks/data_table.ipynb>data table notebook</a>'\n",
              "            + ' to learn more about interactive tables.';\n",
              "          element.innerHTML = '';\n",
              "          dataTable['output_type'] = 'display_data';\n",
              "          await google.colab.output.renderOutput(dataTable, element);\n",
              "          const docLink = document.createElement('div');\n",
              "          docLink.innerHTML = docLinkHtml;\n",
              "          element.appendChild(docLink);\n",
              "        }\n",
              "      </script>\n",
              "    </div>\n",
              "  </div>\n",
              "  "
            ]
          },
          "metadata": {},
          "execution_count": 79
        }
      ],
      "source": [
        "# Load the data into a Pandas DataFrame\n",
        "df = pd.read_csv(\"Dataset.csv\")\n",
        "df.head()"
      ]
    },
    {
      "cell_type": "code",
      "execution_count": 80,
      "metadata": {
        "scrolled": true,
        "colab": {
          "base_uri": "https://localhost:8080/"
        },
        "id": "MyFh-V9R7rJY",
        "outputId": "c108869c-f6ab-4dd2-893a-37ef86fd0fba"
      },
      "outputs": [
        {
          "output_type": "stream",
          "name": "stdout",
          "text": [
            "Lat             152\n",
            "Long            152\n",
            "Day               2\n",
            "Time              3\n",
            "Weather           1\n",
            "Light             1\n",
            "Severity          3\n",
            "Sex               7\n",
            "Age               9\n",
            "Vehicle_type      3\n",
            "Vehicle_age       6\n",
            "dtype: int64\n"
          ]
        }
      ],
      "source": [
        "#Check for missing values\n",
        "print(df.isnull().sum())"
      ]
    },
    {
      "cell_type": "code",
      "source": [
        "\n"
      ],
      "metadata": {
        "id": "vUpiRDoRPEom"
      },
      "execution_count": 64,
      "outputs": []
    },
    {
      "cell_type": "code",
      "execution_count": null,
      "metadata": {
        "id": "fKrJT1Sx7rJY"
      },
      "outputs": [],
      "source": [
        "# Below handling missing values should be chnaged, \n",
        "# because I'm not sure whether applying mean for all the missing values is possible or not, speciallly for Latitute, Logitute"
      ]
    },
    {
      "cell_type": "code",
      "execution_count": 81,
      "metadata": {
        "id": "GA0REQX77rJY"
      },
      "outputs": [],
      "source": [
        "#Handle missing values\n",
        "df.fillna(df.mean(),inplace=True)"
      ]
    },
    {
      "cell_type": "code",
      "source": [
        "from sklearn import preprocessing\n",
        "from sklearn.preprocessing import StandardScaler\n",
        "from sklearn.preprocessing import MinMaxScaler\n",
        "\n",
        "def normalize(features):\n",
        "  scaled_data = preprocessing.normalize(features, axis=0)\n",
        "  print(scaled_data)\n",
        "  return scaled_data\n",
        "\n",
        "def standardization(features):\n",
        "  scaler = StandardScaler()\n",
        "  scaled_data = scaler.fit_transform(features);\n",
        "  print(scaled_data)\n",
        "  return scaled_data\n",
        "\n",
        "def minMaxScaler(features): \n",
        "  scaler = MinMaxScaler()\n",
        "  scaled_data = scaler.fit_transform(features);\n",
        "  print(scaled_data)\n",
        "  return scaled_data\n",
        "\n"
      ],
      "metadata": {
        "id": "w_I_9B53PI0A"
      },
      "execution_count": 82,
      "outputs": []
    },
    {
      "cell_type": "code",
      "execution_count": 83,
      "metadata": {
        "colab": {
          "base_uri": "https://localhost:8080/"
        },
        "id": "wtYuyHxl7rJY",
        "outputId": "36c8664f-7ed5-4dc6-b54d-66f6ef974491"
      },
      "outputs": [
        {
          "output_type": "stream",
          "name": "stdout",
          "text": [
            "[[0.01794282 0.10559041 0.07784989 ... 0.04731021 0.11310213 0.01547986]\n",
            " [0.01794282 0.10559041 0.07784989 ... 0.07427797 0.02262043 0.01547986]\n",
            " [0.12559974 0.04723782 0.07784989 ... 0.04731021 0.02262043 0.04643959]\n",
            " ...\n",
            " [0.10765692 0.10836911 0.07784989 ... 0.05094946 0.02262043 0.0232198 ]\n",
            " [0.10765692 0.10836911 0.07784989 ... 0.03821209 0.11310213 0.00773993]\n",
            " [0.0897141  0.12504128 0.07784989 ... 0.07642419 0.06786128 0.09287918]]\n"
          ]
        }
      ],
      "source": [
        "# Split the data into training and test sets\n",
        "features = df.drop([\"Lat\", \"Long\"], axis=1)\n",
        "y = df[[\"Lat\", \"Long\"]]\n",
        "X = normalize(features) #scaled data"
      ]
    },
    {
      "cell_type": "code",
      "source": [
        "X_train, X_test, y_train, y_test = train_test_split(X, y, test_size=0.2, random_state=0)"
      ],
      "metadata": {
        "id": "43SocHXsReRU"
      },
      "execution_count": 84,
      "outputs": []
    },
    {
      "cell_type": "code",
      "source": [
        "X"
      ],
      "metadata": {
        "colab": {
          "base_uri": "https://localhost:8080/"
        },
        "id": "0DpgADat8lor",
        "outputId": "f847c1fe-b110-4a27-a0e7-30ed4325632e"
      },
      "execution_count": 85,
      "outputs": [
        {
          "output_type": "execute_result",
          "data": {
            "text/plain": [
              "array([[0.01794282, 0.10559041, 0.07784989, ..., 0.04731021, 0.11310213,\n",
              "        0.01547986],\n",
              "       [0.01794282, 0.10559041, 0.07784989, ..., 0.07427797, 0.02262043,\n",
              "        0.01547986],\n",
              "       [0.12559974, 0.04723782, 0.07784989, ..., 0.04731021, 0.02262043,\n",
              "        0.04643959],\n",
              "       ...,\n",
              "       [0.10765692, 0.10836911, 0.07784989, ..., 0.05094946, 0.02262043,\n",
              "        0.0232198 ],\n",
              "       [0.10765692, 0.10836911, 0.07784989, ..., 0.03821209, 0.11310213,\n",
              "        0.00773993],\n",
              "       [0.0897141 , 0.12504128, 0.07784989, ..., 0.07642419, 0.06786128,\n",
              "        0.09287918]])"
            ]
          },
          "metadata": {},
          "execution_count": 85
        }
      ]
    },
    {
      "cell_type": "code",
      "source": [
        "y"
      ],
      "metadata": {
        "colab": {
          "base_uri": "https://localhost:8080/",
          "height": 424
        },
        "id": "Jz146C5N8prz",
        "outputId": "83a33d0a-8d22-4c6b-c353-cd71d49f53e4"
      },
      "execution_count": 86,
      "outputs": [
        {
          "output_type": "execute_result",
          "data": {
            "text/plain": [
              "          Lat       Long\n",
              "0    6.871939  79.901487\n",
              "1    6.871939  79.901487\n",
              "2    6.884665  79.907132\n",
              "3    6.884665  79.907132\n",
              "4    6.877136  79.892977\n",
              "..        ...        ...\n",
              "160  6.871693  79.902681\n",
              "161  6.871693  79.902681\n",
              "162  6.871693  79.902681\n",
              "163  6.871693  79.902681\n",
              "164  6.871693  79.902681\n",
              "\n",
              "[165 rows x 2 columns]"
            ],
            "text/html": [
              "\n",
              "  <div id=\"df-d1c75e57-d900-4416-a556-3fdfb9c29873\">\n",
              "    <div class=\"colab-df-container\">\n",
              "      <div>\n",
              "<style scoped>\n",
              "    .dataframe tbody tr th:only-of-type {\n",
              "        vertical-align: middle;\n",
              "    }\n",
              "\n",
              "    .dataframe tbody tr th {\n",
              "        vertical-align: top;\n",
              "    }\n",
              "\n",
              "    .dataframe thead th {\n",
              "        text-align: right;\n",
              "    }\n",
              "</style>\n",
              "<table border=\"1\" class=\"dataframe\">\n",
              "  <thead>\n",
              "    <tr style=\"text-align: right;\">\n",
              "      <th></th>\n",
              "      <th>Lat</th>\n",
              "      <th>Long</th>\n",
              "    </tr>\n",
              "  </thead>\n",
              "  <tbody>\n",
              "    <tr>\n",
              "      <th>0</th>\n",
              "      <td>6.871939</td>\n",
              "      <td>79.901487</td>\n",
              "    </tr>\n",
              "    <tr>\n",
              "      <th>1</th>\n",
              "      <td>6.871939</td>\n",
              "      <td>79.901487</td>\n",
              "    </tr>\n",
              "    <tr>\n",
              "      <th>2</th>\n",
              "      <td>6.884665</td>\n",
              "      <td>79.907132</td>\n",
              "    </tr>\n",
              "    <tr>\n",
              "      <th>3</th>\n",
              "      <td>6.884665</td>\n",
              "      <td>79.907132</td>\n",
              "    </tr>\n",
              "    <tr>\n",
              "      <th>4</th>\n",
              "      <td>6.877136</td>\n",
              "      <td>79.892977</td>\n",
              "    </tr>\n",
              "    <tr>\n",
              "      <th>...</th>\n",
              "      <td>...</td>\n",
              "      <td>...</td>\n",
              "    </tr>\n",
              "    <tr>\n",
              "      <th>160</th>\n",
              "      <td>6.871693</td>\n",
              "      <td>79.902681</td>\n",
              "    </tr>\n",
              "    <tr>\n",
              "      <th>161</th>\n",
              "      <td>6.871693</td>\n",
              "      <td>79.902681</td>\n",
              "    </tr>\n",
              "    <tr>\n",
              "      <th>162</th>\n",
              "      <td>6.871693</td>\n",
              "      <td>79.902681</td>\n",
              "    </tr>\n",
              "    <tr>\n",
              "      <th>163</th>\n",
              "      <td>6.871693</td>\n",
              "      <td>79.902681</td>\n",
              "    </tr>\n",
              "    <tr>\n",
              "      <th>164</th>\n",
              "      <td>6.871693</td>\n",
              "      <td>79.902681</td>\n",
              "    </tr>\n",
              "  </tbody>\n",
              "</table>\n",
              "<p>165 rows × 2 columns</p>\n",
              "</div>\n",
              "      <button class=\"colab-df-convert\" onclick=\"convertToInteractive('df-d1c75e57-d900-4416-a556-3fdfb9c29873')\"\n",
              "              title=\"Convert this dataframe to an interactive table.\"\n",
              "              style=\"display:none;\">\n",
              "        \n",
              "  <svg xmlns=\"http://www.w3.org/2000/svg\" height=\"24px\"viewBox=\"0 0 24 24\"\n",
              "       width=\"24px\">\n",
              "    <path d=\"M0 0h24v24H0V0z\" fill=\"none\"/>\n",
              "    <path d=\"M18.56 5.44l.94 2.06.94-2.06 2.06-.94-2.06-.94-.94-2.06-.94 2.06-2.06.94zm-11 1L8.5 8.5l.94-2.06 2.06-.94-2.06-.94L8.5 2.5l-.94 2.06-2.06.94zm10 10l.94 2.06.94-2.06 2.06-.94-2.06-.94-.94-2.06-.94 2.06-2.06.94z\"/><path d=\"M17.41 7.96l-1.37-1.37c-.4-.4-.92-.59-1.43-.59-.52 0-1.04.2-1.43.59L10.3 9.45l-7.72 7.72c-.78.78-.78 2.05 0 2.83L4 21.41c.39.39.9.59 1.41.59.51 0 1.02-.2 1.41-.59l7.78-7.78 2.81-2.81c.8-.78.8-2.07 0-2.86zM5.41 20L4 18.59l7.72-7.72 1.47 1.35L5.41 20z\"/>\n",
              "  </svg>\n",
              "      </button>\n",
              "      \n",
              "  <style>\n",
              "    .colab-df-container {\n",
              "      display:flex;\n",
              "      flex-wrap:wrap;\n",
              "      gap: 12px;\n",
              "    }\n",
              "\n",
              "    .colab-df-convert {\n",
              "      background-color: #E8F0FE;\n",
              "      border: none;\n",
              "      border-radius: 50%;\n",
              "      cursor: pointer;\n",
              "      display: none;\n",
              "      fill: #1967D2;\n",
              "      height: 32px;\n",
              "      padding: 0 0 0 0;\n",
              "      width: 32px;\n",
              "    }\n",
              "\n",
              "    .colab-df-convert:hover {\n",
              "      background-color: #E2EBFA;\n",
              "      box-shadow: 0px 1px 2px rgba(60, 64, 67, 0.3), 0px 1px 3px 1px rgba(60, 64, 67, 0.15);\n",
              "      fill: #174EA6;\n",
              "    }\n",
              "\n",
              "    [theme=dark] .colab-df-convert {\n",
              "      background-color: #3B4455;\n",
              "      fill: #D2E3FC;\n",
              "    }\n",
              "\n",
              "    [theme=dark] .colab-df-convert:hover {\n",
              "      background-color: #434B5C;\n",
              "      box-shadow: 0px 1px 3px 1px rgba(0, 0, 0, 0.15);\n",
              "      filter: drop-shadow(0px 1px 2px rgba(0, 0, 0, 0.3));\n",
              "      fill: #FFFFFF;\n",
              "    }\n",
              "  </style>\n",
              "\n",
              "      <script>\n",
              "        const buttonEl =\n",
              "          document.querySelector('#df-d1c75e57-d900-4416-a556-3fdfb9c29873 button.colab-df-convert');\n",
              "        buttonEl.style.display =\n",
              "          google.colab.kernel.accessAllowed ? 'block' : 'none';\n",
              "\n",
              "        async function convertToInteractive(key) {\n",
              "          const element = document.querySelector('#df-d1c75e57-d900-4416-a556-3fdfb9c29873');\n",
              "          const dataTable =\n",
              "            await google.colab.kernel.invokeFunction('convertToInteractive',\n",
              "                                                     [key], {});\n",
              "          if (!dataTable) return;\n",
              "\n",
              "          const docLinkHtml = 'Like what you see? Visit the ' +\n",
              "            '<a target=\"_blank\" href=https://colab.research.google.com/notebooks/data_table.ipynb>data table notebook</a>'\n",
              "            + ' to learn more about interactive tables.';\n",
              "          element.innerHTML = '';\n",
              "          dataTable['output_type'] = 'display_data';\n",
              "          await google.colab.output.renderOutput(dataTable, element);\n",
              "          const docLink = document.createElement('div');\n",
              "          docLink.innerHTML = docLinkHtml;\n",
              "          element.appendChild(docLink);\n",
              "        }\n",
              "      </script>\n",
              "    </div>\n",
              "  </div>\n",
              "  "
            ]
          },
          "metadata": {},
          "execution_count": 86
        }
      ]
    },
    {
      "cell_type": "code",
      "execution_count": 87,
      "metadata": {
        "colab": {
          "base_uri": "https://localhost:8080/"
        },
        "id": "ma2Enwjq7rJZ",
        "outputId": "dc3d7659-cea1-4b2a-d6e1-d45d3c77a26a"
      },
      "outputs": [
        {
          "output_type": "execute_result",
          "data": {
            "text/plain": [
              "DecisionTreeRegressor(random_state=0)"
            ]
          },
          "metadata": {},
          "execution_count": 87
        }
      ],
      "source": [
        "# Train a random forest regressor\n",
        "reg = DecisionTreeRegressor(random_state=0)\n",
        "reg.fit(X_train, y_train)"
      ]
    },
    {
      "cell_type": "code",
      "execution_count": 88,
      "metadata": {
        "id": "twbo_ElW7rJZ"
      },
      "outputs": [],
      "source": [
        "# Make predictions on the test data\n",
        "y_pred = reg.predict(X_test)"
      ]
    },
    {
      "cell_type": "code",
      "execution_count": null,
      "metadata": {
        "id": "0wpS6eHV7rJZ"
      },
      "outputs": [],
      "source": [
        "# Don't know whether this MSE value is OK or not"
      ]
    },
    {
      "cell_type": "code",
      "execution_count": 89,
      "metadata": {
        "colab": {
          "base_uri": "https://localhost:8080/"
        },
        "id": "F8uVZBiY7rJZ",
        "outputId": "8c29cca2-c472-4afb-8809-2d0aa8880b49"
      },
      "outputs": [
        {
          "output_type": "stream",
          "name": "stdout",
          "text": [
            "Mean Squared Error: 1.1935447309235842e-05\n",
            "Mean Absolute Error: 0.0014770897436038792\n"
          ]
        }
      ],
      "source": [
        "# Evaluate the model's performance\n",
        "mse = mean_squared_error(y_test, y_pred)\n",
        "print(\"Mean Squared Error:\", mse)\n",
        "mae = mean_absolute_error(y_test, y_pred)\n",
        "print(\"Mean Absolute Error:\", mae)"
      ]
    },
    {
      "cell_type": "code",
      "execution_count": 90,
      "metadata": {
        "colab": {
          "base_uri": "https://localhost:8080/"
        },
        "id": "DJQNHxwh7rJZ",
        "outputId": "5c661db1-9a15-4be9-f9d3-cff201a9a293"
      },
      "outputs": [
        {
          "output_type": "execute_result",
          "data": {
            "text/plain": [
              "array([[ 6.87169338, 79.90268123],\n",
              "       [ 6.877136  , 79.892977  ],\n",
              "       [ 6.87169338, 79.90268123],\n",
              "       [ 6.87169338, 79.90268123],\n",
              "       [ 6.87169338, 79.90268123],\n",
              "       [ 6.869196  , 79.902801  ],\n",
              "       [ 6.869196  , 79.902801  ],\n",
              "       [ 6.87169338, 79.90268123],\n",
              "       [ 6.87169338, 79.90268123],\n",
              "       [ 6.87169338, 79.90268123],\n",
              "       [ 6.869196  , 79.902801  ],\n",
              "       [ 6.87169338, 79.90268123],\n",
              "       [ 6.87169338, 79.90268123],\n",
              "       [ 6.87169338, 79.90268123],\n",
              "       [ 6.87169338, 79.90268123],\n",
              "       [ 6.87169338, 79.90268123],\n",
              "       [ 6.87169338, 79.90268123],\n",
              "       [ 6.87169338, 79.90268123],\n",
              "       [ 6.87169338, 79.90268123],\n",
              "       [ 6.862701  , 79.91147   ],\n",
              "       [ 6.87169338, 79.90268123],\n",
              "       [ 6.884665  , 79.907132  ],\n",
              "       [ 6.87169338, 79.90268123],\n",
              "       [ 6.87169338, 79.90268123],\n",
              "       [ 6.87169338, 79.90268123],\n",
              "       [ 6.87169338, 79.90268123],\n",
              "       [ 6.87169338, 79.90268123],\n",
              "       [ 6.87169338, 79.90268123],\n",
              "       [ 6.87169338, 79.90268123],\n",
              "       [ 6.87169338, 79.90268123],\n",
              "       [ 6.87169338, 79.90268123],\n",
              "       [ 6.87169338, 79.90268123],\n",
              "       [ 6.87169338, 79.90268123]])"
            ]
          },
          "metadata": {},
          "execution_count": 90
        }
      ],
      "source": [
        "y_pred"
      ]
    },
    {
      "cell_type": "code",
      "source": [
        "from sklearn.multioutput import MultiOutputRegressor\n",
        "from sklearn.ensemble import GradientBoostingRegressor\n",
        "reg = MultiOutputRegressor(GradientBoostingRegressor(n_estimators=100, random_state=0))"
      ],
      "metadata": {
        "id": "huI24tdt9Pb8"
      },
      "execution_count": 91,
      "outputs": []
    },
    {
      "cell_type": "code",
      "source": [
        "reg.fit(X_train, y_train)\n",
        "y_pred = reg.predict(X_test)"
      ],
      "metadata": {
        "id": "kmQGTY199i72"
      },
      "execution_count": 92,
      "outputs": []
    },
    {
      "cell_type": "code",
      "source": [
        "mse = mean_squared_error(y_test, y_pred)\n",
        "print(\"Mean Squared Error:\", mse)\n",
        "mae = mean_absolute_error(y_test, y_pred)\n",
        "print(\"Mean Absolute Error:\", mae)"
      ],
      "metadata": {
        "colab": {
          "base_uri": "https://localhost:8080/"
        },
        "id": "Dou_Xge29txo",
        "outputId": "d6241419-9ed7-4358-9820-60c9f0896c64"
      },
      "execution_count": 93,
      "outputs": [
        {
          "output_type": "stream",
          "name": "stdout",
          "text": [
            "Mean Squared Error: 7.389524645019365e-06\n",
            "Mean Absolute Error: 0.0015267374547005283\n"
          ]
        }
      ]
    }
  ],
  "metadata": {
    "kernelspec": {
      "display_name": "Python 3 (ipykernel)",
      "language": "python",
      "name": "python3"
    },
    "language_info": {
      "codemirror_mode": {
        "name": "ipython",
        "version": 3
      },
      "file_extension": ".py",
      "mimetype": "text/x-python",
      "name": "python",
      "nbconvert_exporter": "python",
      "pygments_lexer": "ipython3",
      "version": "3.9.12"
    },
    "vscode": {
      "interpreter": {
        "hash": "8bcfe50ca08a17b0c4b14f1945e5acf30df623b191943573ee70e01489a1e93c"
      }
    },
    "colab": {
      "provenance": [],
      "include_colab_link": true
    }
  },
  "nbformat": 4,
  "nbformat_minor": 0
}